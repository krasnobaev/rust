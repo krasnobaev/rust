{
 "cells": [
  {
   "cell_type": "code",
   "execution_count": 6,
   "metadata": {
    "collapsed": false
   },
   "outputs": [
    {
     "name": "stderr",
     "output_type": "stream",
     "text": []
    },
    {
     "name": "stdout",
     "output_type": "stream",
     "text": [
      "Hello, Dash!\n"
     ]
    }
   ],
   "source": [
    "fn main() {\n",
    "  println!(\"Hello, Dash!\");\n",
    "}"
   ]
  },
  {
   "cell_type": "markdown",
   "metadata": {},
   "source": [
    "### even or odd\n",
    "https://www.codewars.com/kata/even-or-odd/train/rust"
   ]
  },
  {
   "cell_type": "code",
   "execution_count": 17,
   "metadata": {
    "collapsed": false
   },
   "outputs": [
    {
     "name": "stderr",
     "output_type": "stream",
     "text": [
      "warning: unnecessary parentheses around `if` condition, #[warn(unused_parens)] on by default\n",
      " --> /var/folders/c4/h0fk_8_96ms4rfv6j5_d56980000gn/T/tmp7r1rdt82.rs:2:6\n",
      "  |\n",
      "2 |   if (124 & 1 == 1) {\n",
      "  |      ^^^^^^^^^^^^^^\n",
      "\n"
     ]
    },
    {
     "name": "stdout",
     "output_type": "stream",
     "text": [
      "No\n"
     ]
    }
   ],
   "source": [
    "fn main() {\n",
    "  if (124 & 1 == 1) {\n",
    "    println!(\"Yes\");\n",
    "  } else {\n",
    "    println!(\"No\");   \n",
    "  }\n",
    "}"
   ]
  },
  {
   "cell_type": "code",
   "execution_count": 18,
   "metadata": {
    "collapsed": true
   },
   "outputs": [
    {
     "name": "stderr",
     "output_type": "stream",
     "text": [
      "warning: unnecessary parentheses around `if` condition, #[warn(unused_parens)] on by default\n",
      " --> /var/folders/c4/h0fk_8_96ms4rfv6j5_d56980000gn/T/tmpymm3sq4v.rs:2:6\n",
      "  |\n",
      "2 |   if (i & 1 == 1) {\n",
      "  |      ^^^^^^^^^^^^\n",
      "\n",
      "error: main function not found\n",
      "\n",
      "error: aborting due to previous error\n",
      "\n",
      "[Rust kernel] rustc exited with code 101, the executable will not be executed"
     ]
    },
    {
     "name": "stdout",
     "output_type": "stream",
     "text": []
    }
   ],
   "source": [
    "fn even_or_odd(i: i32) -> &'static str {\n",
    "  if (i & 1 == 1) {\n",
    "    return \"Odd\";\n",
    "  } else {\n",
    "    return \"Even\";   \n",
    "  }\n",
    "}"
   ]
  },
  {
   "cell_type": "code",
   "execution_count": null,
   "metadata": {
    "collapsed": true
   },
   "outputs": [],
   "source": [
    "fn even_or_odd(i: i32) -> &'static str {\n",
    "  match i % 2 {\n",
    "    0 => \"Even\",\n",
    "    _ => \"Odd\",\n",
    "  }\n",
    "}"
   ]
  },
  {
   "cell_type": "code",
   "execution_count": null,
   "metadata": {
    "collapsed": true
   },
   "outputs": [],
   "source": []
  }
 ],
 "metadata": {
  "kernelspec": {
   "display_name": "Rust",
   "language": "rust",
   "name": "rust"
  },
  "language_info": {
   "file_extension": "rs",
   "mimetype": "text/plain",
   "name": "rust"
  }
 },
 "nbformat": 4,
 "nbformat_minor": 2
}
